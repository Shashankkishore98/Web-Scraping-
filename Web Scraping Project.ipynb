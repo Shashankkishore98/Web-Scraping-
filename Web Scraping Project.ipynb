{
 "cells": [
  {
   "cell_type": "code",
   "execution_count": 1,
   "metadata": {},
   "outputs": [],
   "source": [
    "import requests"
   ]
  },
  {
   "cell_type": "code",
   "execution_count": 2,
   "metadata": {},
   "outputs": [],
   "source": [
    "from bs4 import BeautifulSoup\n",
    "import sys \n",
    "import time"
   ]
  },
  {
   "cell_type": "code",
   "execution_count": 3,
   "metadata": {},
   "outputs": [],
   "source": [
    "try:\n",
    "    # requesting the particular website \n",
    "    page=requests.get('https://store.steampowered.com/games/#p=0&tab=NewReleases')\n",
    "\n",
    "# if a error is generated then it will be captured by the except section    \n",
    "except Exception as e:\n",
    "    error_type,error_obj,error_info=sys.exc_info()\n",
    "    print('ERROR FOR LINK:',url)\n",
    "    print(error_type,'Line',rror_info.tb_lineno)\n",
    "time.sleep(2)    "
   ]
  },
  {
   "cell_type": "code",
   "execution_count": 4,
   "metadata": {},
   "outputs": [],
   "source": [
    "soup= BeautifulSoup(page.text,'html.parser') # the page scraped is parsed into html \n",
    "links=soup.find('div',attrs={'id':'NewReleasesRows'}) # NewReleasesRows : this id contain all the new games and there url\n"
   ]
  },
  {
   "cell_type": "code",
   "execution_count": 5,
   "metadata": {},
   "outputs": [],
   "source": [
    "# here in this section we are fetching the top 5 games url and storing into urls list\n",
    "urls=[]\n",
    "c=0\n",
    "for i in links.find_all_next('a'):\n",
    "    if(c==5):\n",
    "        break\n",
    "    c+=1    \n",
    "    urls.append(i['href'])\n",
    "     "
   ]
  },
  {
   "cell_type": "code",
   "execution_count": 6,
   "metadata": {},
   "outputs": [
    {
     "data": {
      "text/plain": [
       "['https://store.steampowered.com/app/1062520/Dinkum/?snr=1_1452_4__103',\n",
       " 'https://store.steampowered.com/app/1812090/Escape_Academy/?snr=1_1452_4__103',\n",
       " 'https://store.steampowered.com/app/1222790/Crossing_Frontier/?snr=1_1452_4__103',\n",
       " 'https://store.steampowered.com/app/1702330/Rune_Factory_5/?snr=1_1452_4__103',\n",
       " 'https://store.steampowered.com/app/1949190/Necrosmith/?snr=1_1452_4__103']"
      ]
     },
     "execution_count": 6,
     "metadata": {},
     "output_type": "execute_result"
    }
   ],
   "source": [
    "urls"
   ]
  },
  {
   "cell_type": "code",
   "execution_count": 7,
   "metadata": {},
   "outputs": [
    {
     "name": "stdout",
     "output_type": "stream",
     "text": [
      "https://store.steampowered.com/app/1062520/Dinkum/?snr=1_1452_4__103\n",
      "Title of Game : Dinkum \n",
      "Developer: \n",
      "James Bendon  \n",
      "Publisher: \n",
      "James Bendon  \n",
      "\n",
      "\n",
      "**********************\n",
      "https://store.steampowered.com/app/1812090/Escape_Academy/?snr=1_1452_4__103\n",
      "Title of Game : Escape Academy \n",
      "Developer: \n",
      "Coin Crew Games  \n",
      "Publisher: \n",
      "iam8bit, Skybound Games  \n",
      "\n",
      "\n",
      "**********************\n",
      "https://store.steampowered.com/app/1222790/Crossing_Frontier/?snr=1_1452_4__103\n",
      "Title of Game : Crossing Frontier 盡界戰線 \n",
      "Developer: \n",
      "beaconofgamers  \n",
      "Publisher: \n",
      "beaconofgamers, iACG 遊戲社, Light of Creators  \n",
      "\n",
      "\n",
      "**********************\n",
      "https://store.steampowered.com/app/1702330/Rune_Factory_5/?snr=1_1452_4__103\n",
      "Title of Game : Rune Factory 5 \n",
      "Developer: \n",
      "Marvelous Inc.  \n",
      "Publisher: \n",
      "XSEED Games, Marvelous USA, Inc., Marvelous  \n",
      "\n",
      "\n",
      "**********************\n",
      "https://store.steampowered.com/app/1949190/Necrosmith/?snr=1_1452_4__103\n",
      "Title of Game : Necrosmith \n",
      "Developer: \n",
      "Alawar Premium  \n",
      "Publisher: \n",
      "Alawar Premium  \n",
      "\n",
      "\n",
      "**********************\n"
     ]
    }
   ],
   "source": [
    "# here we are fetching the Developer and Publisher of each game\n",
    "\n",
    "for i in urls:\n",
    "    print(i)\n",
    "    page=requests.get(i)\n",
    "    soup1= BeautifulSoup(page.text,'html.parser')\n",
    "    \n",
    "    links1=soup1.find_all('div',{'class':'summary column'})\n",
    "    links2=soup1.find_all('div',{'class':'apphub_AppName'})\n",
    "    links2=links2+links2\n",
    "    c=0\n",
    "    d=0\n",
    "    for i,j in zip(links1,links2):\n",
    "        if(d==0):\n",
    "            print('Title of Game : {0} '.format(j.text))\n",
    "            d+=1\n",
    "        if(c==1):\n",
    "            print('Developer: {0} '.format(i.text))\n",
    "        elif(c==2):\n",
    "            print('Publisher: {0} '.format(i.text))\n",
    "        else:\n",
    "            pass\n",
    "        c+=1\n",
    "        #print(\"****************\")\n",
    "    print(\"\\n\")\n",
    "    print(\"**********************\")\n",
    "        "
   ]
  },
  {
   "cell_type": "code",
   "execution_count": 8,
   "metadata": {},
   "outputs": [
    {
     "name": "stdout",
     "output_type": "stream",
     "text": [
      "https://store.steampowered.com/app/1062520/Dinkum/?snr=1_1452_4__103\n",
      "Title of Game : Dinkum \n",
      "Positive (4)\n",
      "\n",
      "\n",
      "**********************\n",
      "https://store.steampowered.com/app/1812090/Escape_Academy/?snr=1_1452_4__103\n",
      "Title of Game : Escape Academy \n",
      "Positive (6)\n",
      "\n",
      "\n",
      "**********************\n",
      "https://store.steampowered.com/app/1222790/Crossing_Frontier/?snr=1_1452_4__103\n",
      "Title of Game : Crossing Frontier 盡界戰線 \n",
      "Positive (16)\n",
      "\n",
      "\n",
      "**********************\n",
      "https://store.steampowered.com/app/1702330/Rune_Factory_5/?snr=1_1452_4__103\n",
      "Title of Game : Rune Factory 5 \n",
      "Positive (107)\n",
      "\n",
      "\n",
      "**********************\n",
      "https://store.steampowered.com/app/1949190/Necrosmith/?snr=1_1452_4__103\n",
      "Title of Game : Necrosmith \n",
      "Positive (118)\n",
      "\n",
      "\n",
      "**********************\n"
     ]
    }
   ],
   "source": [
    "# here we are fetching the Positive reviews of each game\n",
    "\n",
    "for i in urls:\n",
    "    print(i)\n",
    "    page=requests.get(i)\n",
    "    soup1= BeautifulSoup(page.text,'html.parser')\n",
    "    \n",
    "    links1=soup1.find_all('label',{'for':'review_type_positive'})\n",
    "    links2=soup1.find_all('div',{'class':'apphub_AppName'})\n",
    "    \n",
    "    for i,j in zip(links1,links2):\n",
    "        print('Title of Game : {0} '.format(j.text))\n",
    "        print(i.text)\n",
    "    print(\"\\n\")\n",
    "    print(\"**********************\")\n",
    "            \n",
    "        \n",
    "       "
   ]
  },
  {
   "cell_type": "code",
   "execution_count": 9,
   "metadata": {},
   "outputs": [
    {
     "name": "stdout",
     "output_type": "stream",
     "text": [
      "https://store.steampowered.com/app/1062520/Dinkum/?snr=1_1452_4__103\n",
      "Title of Game : Dinkum \n",
      "\n",
      "System Requirements\n",
      "\n",
      "\n",
      "\n",
      "\n",
      "Minimum:OS: Windows 7 / 8 / 10Processor: Intel Core i3Memory: 4 GB RAMGraphics: NVIDIA GTX 560, AMD Radeon HD 6970DirectX: Version 9.0cNetwork: Broadband Internet connectionStorage: 1 GB available spaceSound Card: DirectX compatible \n",
      "\n",
      "\n",
      "\n",
      "\n",
      "\n",
      "**********************\n",
      "https://store.steampowered.com/app/1812090/Escape_Academy/?snr=1_1452_4__103\n",
      "Title of Game : Escape Academy \n",
      "\n",
      "System Requirements\n",
      "\n",
      "\n",
      "\n",
      "\n",
      "Minimum:OS: Windows 7DirectX: Version 10Storage: 5 GB available space \n",
      "\n",
      "\n",
      "\n",
      "\n",
      "\n",
      "**********************\n",
      "https://store.steampowered.com/app/1222790/Crossing_Frontier/?snr=1_1452_4__103\n",
      "Title of Game : Crossing Frontier 盡界戰線 \n",
      "\n",
      "System Requirements\n",
      "\n",
      "\n",
      "\n",
      "\n",
      "Minimum:Requires a 64-bit processor and operating systemOS: Windows 10Processor: AMD, INTELMemory: 1024 MB RAMGraphics: GTX750Network: Broadband Internet connectionStorage: 20 GB available space \n",
      "\n",
      "\n",
      "\n",
      "Recommended:Requires a 64-bit processor and operating system \n",
      "\n",
      "\n",
      "\n",
      "\n",
      "\n",
      "**********************\n",
      "https://store.steampowered.com/app/1702330/Rune_Factory_5/?snr=1_1452_4__103\n",
      "Title of Game : Rune Factory 5 \n",
      "\n",
      "System Requirements\n",
      "\n",
      "\n",
      "\n",
      "\n",
      "Minimum:Requires a 64-bit processor and operating systemOS: Windows 8.1 or laterProcessor: Intel Core i5-6500Memory: 8 GB RAMGraphics: Nvidia GTX 660 TiDirectX: Version 11Storage: 9 GB available space \n",
      "\n",
      "\n",
      "\n",
      "Recommended:Requires a 64-bit processor and operating systemOS: Windows 8.1 or laterProcessor: Intel Core i5-9400Memory: 16 GB RAMGraphics: Nvidia GTX 1660 TiDirectX: Version 11Storage: 9 GB available space \n",
      "\n",
      "\n",
      "\n",
      "\n",
      "\n",
      "**********************\n",
      "https://store.steampowered.com/app/1949190/Necrosmith/?snr=1_1452_4__103\n",
      "Title of Game : Necrosmith \n",
      "\n",
      "System Requirements\n",
      "\n",
      "\n",
      "\n",
      "\n",
      "Minimum:Requires a 64-bit processor and operating systemOS: Windows 7 or laterProcessor: Intel Core i5 or equvalentMemory: 4 GB RAMGraphics: Nvidia GeForce GTX 650 or equvalentStorage: 1 GB available spaceAdditional Notes: Stay Hydrated \n",
      "\n",
      "\n",
      "\n",
      "Recommended:Requires a 64-bit processor and operating system \n",
      "\n",
      "\n",
      "\n",
      "\n",
      "\n",
      "**********************\n"
     ]
    }
   ],
   "source": [
    "# here we are fetching the System Requirements of ecah game.\n",
    "\n",
    "for i in urls:\n",
    "    print(i)\n",
    "    page=requests.get(i)\n",
    "    soup1= BeautifulSoup(page.text,'html.parser')\n",
    "    \n",
    "    links1=soup1.find_all('div',{'class':'apphub_AppName'})\n",
    "    links2=soup1.find_all('div',{'class':'game_page_autocollapse sys_req'})\n",
    "    \n",
    "    for i,j in zip(links1,links2):\n",
    "        print('Title of Game : {0} '.format(i.text))\n",
    "        print(j.text)\n",
    "    print(\"**********************\")    \n",
    "       \n",
    "        #print(m.text)"
   ]
  },
  {
   "cell_type": "code",
   "execution_count": null,
   "metadata": {},
   "outputs": [],
   "source": []
  }
 ],
 "metadata": {
  "kernelspec": {
   "display_name": "Python 3 (ipykernel)",
   "language": "python",
   "name": "python3"
  },
  "language_info": {
   "codemirror_mode": {
    "name": "ipython",
    "version": 3
   },
   "file_extension": ".py",
   "mimetype": "text/x-python",
   "name": "python",
   "nbconvert_exporter": "python",
   "pygments_lexer": "ipython3",
   "version": "3.9.12"
  }
 },
 "nbformat": 4,
 "nbformat_minor": 2
}
